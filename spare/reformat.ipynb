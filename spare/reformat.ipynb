{
 "cells": [
  {
   "cell_type": "code",
   "execution_count": 2,
   "metadata": {},
   "outputs": [],
   "source": [
    "import yaml"
   ]
  },
  {
   "cell_type": "code",
   "execution_count": 17,
   "metadata": {},
   "outputs": [],
   "source": [
    "with open('words.json') as words_file:\n",
    "    raw_words = yaml.load(words_file, yaml.CSafeLoader)\n",
    "\n",
    "words = list(sorted(((x[0] if x is not None else {'word': w}) for (w, x) in raw_words.items()), key=lambda x: x['word'] if x is not None else '@'))\n",
    "\n",
    "with open('words2.yaml', 'w') as words2_file:\n",
    "    yaml.dump(words, words2_file)"
   ]
  },
  {
   "cell_type": "code",
   "execution_count": 21,
   "metadata": {},
   "outputs": [
    {
     "name": "stdout",
     "output_type": "stream",
     "text": [
      "dovetail missing a definition\n",
      "instransigent missing a definition\n",
      "pr�cis missing a definition\n",
      "repertorial missing a definition\n"
     ]
    },
    {
     "data": {
      "text/html": [
       "<div>\n",
       "<style scoped>\n",
       "    .dataframe tbody tr th:only-of-type {\n",
       "        vertical-align: middle;\n",
       "    }\n",
       "\n",
       "    .dataframe tbody tr th {\n",
       "        vertical-align: top;\n",
       "    }\n",
       "\n",
       "    .dataframe thead th {\n",
       "        text-align: right;\n",
       "    }\n",
       "</style>\n",
       "<table border=\"1\" class=\"dataframe\">\n",
       "  <thead>\n",
       "    <tr style=\"text-align: right;\">\n",
       "      <th></th>\n",
       "      <th>partOfSpeech</th>\n",
       "      <th>word</th>\n",
       "      <th>definition</th>\n",
       "    </tr>\n",
       "  </thead>\n",
       "  <tbody>\n",
       "    <tr>\n",
       "      <th>0</th>\n",
       "      <td>verb</td>\n",
       "      <td>abase</td>\n",
       "      <td>To lower, as in condition in life, office, ran...</td>\n",
       "    </tr>\n",
       "    <tr>\n",
       "      <th>1</th>\n",
       "      <td>verb</td>\n",
       "      <td>abase</td>\n",
       "      <td>To lower physically; to depress; to cast or th...</td>\n",
       "    </tr>\n",
       "    <tr>\n",
       "      <th>2</th>\n",
       "      <td>verb</td>\n",
       "      <td>abase</td>\n",
       "      <td>To lower in value, in particular by altering t...</td>\n",
       "    </tr>\n",
       "    <tr>\n",
       "      <th>3</th>\n",
       "      <td>noun</td>\n",
       "      <td>abeyance</td>\n",
       "      <td>Expectancy; condition of ownership of real pro...</td>\n",
       "    </tr>\n",
       "    <tr>\n",
       "      <th>4</th>\n",
       "      <td>noun</td>\n",
       "      <td>abeyance</td>\n",
       "      <td>Suspension; temporary suppression; dormant con...</td>\n",
       "    </tr>\n",
       "    <tr>\n",
       "      <th>...</th>\n",
       "      <td>...</td>\n",
       "      <td>...</td>\n",
       "      <td>...</td>\n",
       "    </tr>\n",
       "    <tr>\n",
       "      <th>582</th>\n",
       "      <td>adjective</td>\n",
       "      <td>stentorian</td>\n",
       "      <td>(of a voice) Loud, powerful, booming, suitable...</td>\n",
       "    </tr>\n",
       "    <tr>\n",
       "      <th>583</th>\n",
       "      <td>adjective</td>\n",
       "      <td>stentorian</td>\n",
       "      <td>(by extension) Stern, authoritarian; demanding...</td>\n",
       "    </tr>\n",
       "    <tr>\n",
       "      <th>584</th>\n",
       "      <td>verb</td>\n",
       "      <td>stipulate</td>\n",
       "      <td>To require (something) as a condition of a con...</td>\n",
       "    </tr>\n",
       "    <tr>\n",
       "      <th>585</th>\n",
       "      <td>verb</td>\n",
       "      <td>stipulate</td>\n",
       "      <td>To specify, promise or guarantee something in ...</td>\n",
       "    </tr>\n",
       "    <tr>\n",
       "      <th>586</th>\n",
       "      <td>verb</td>\n",
       "      <td>stipulate</td>\n",
       "      <td>To acknowledge the truth of; not to challenge....</td>\n",
       "    </tr>\n",
       "  </tbody>\n",
       "</table>\n",
       "<p>587 rows × 3 columns</p>\n",
       "</div>"
      ],
      "text/plain": [
       "    partOfSpeech        word  \\\n",
       "0           verb       abase   \n",
       "1           verb       abase   \n",
       "2           verb       abase   \n",
       "3           noun    abeyance   \n",
       "4           noun    abeyance   \n",
       "..           ...         ...   \n",
       "582    adjective  stentorian   \n",
       "583    adjective  stentorian   \n",
       "584         verb   stipulate   \n",
       "585         verb   stipulate   \n",
       "586         verb   stipulate   \n",
       "\n",
       "                                            definition  \n",
       "0    To lower, as in condition in life, office, ran...  \n",
       "1    To lower physically; to depress; to cast or th...  \n",
       "2    To lower in value, in particular by altering t...  \n",
       "3    Expectancy; condition of ownership of real pro...  \n",
       "4    Suspension; temporary suppression; dormant con...  \n",
       "..                                                 ...  \n",
       "582  (of a voice) Loud, powerful, booming, suitable...  \n",
       "583  (by extension) Stern, authoritarian; demanding...  \n",
       "584  To require (something) as a condition of a con...  \n",
       "585  To specify, promise or guarantee something in ...  \n",
       "586  To acknowledge the truth of; not to challenge....  \n",
       "\n",
       "[587 rows x 3 columns]"
      ]
     },
     "execution_count": 21,
     "metadata": {},
     "output_type": "execute_result"
    }
   ],
   "source": [
    "with open('words2.yaml') as words_file:\n",
    "    words = yaml.load(words_file, yaml.CSafeLoader)\n",
    "\n",
    "import pandas as pd\n",
    "\n",
    "rows = []\n",
    "for word_response in words:\n",
    "    word = word_response['word']\n",
    "    if 'meanings' not in word_response:\n",
    "        print(word, 'missing a definition')\n",
    "    else:\n",
    "        meanings = word_response['meanings']\n",
    "        for meaning in meanings:\n",
    "            partOfSpeech = meaning['partOfSpeech']\n",
    "            for definition in (d['definition'] for d in meaning['definitions']):\n",
    "                rows.append((partOfSpeech, word, definition))\n",
    "\n",
    "pd.DataFrame(rows, columns=['partOfSpeech', 'word', 'definition'])"
   ]
  },
  {
   "cell_type": "code",
   "execution_count": 2,
   "metadata": {},
   "outputs": [
    {
     "name": "stdout",
     "output_type": "stream",
     "text": [
      "dovetail missing a definition\n",
      "instransigent missing a definition\n",
      "pr�cis missing a definition\n",
      "repertorial missing a definition\n"
     ]
    }
   ],
   "source": [
    "from word_database import *\n",
    "definition_table = load_definition_table('words2.yaml')\n",
    "part_of_speech_groups = definition_table.groupby('partOfSpeech')"
   ]
  },
  {
   "cell_type": "code",
   "execution_count": 3,
   "metadata": {},
   "outputs": [
    {
     "name": "stdout",
     "output_type": "stream",
     "text": [
      "partOfSpeech\n",
      "adjective      220\n",
      "adverb           3\n",
      "noun           206\n",
      "preposition      1\n",
      "verb           157\n",
      "dtype: int64\n",
      "    partOfSpeech       word                                         definition\n",
      "30        adverb      aloof  At or from a distance, but within view, or at ...\n",
      "31        adverb      aloof                     Without sympathy; unfavorably.\n",
      "228       adverb  erstwhile                             Formerly; in the past.\n"
     ]
    }
   ],
   "source": [
    "dir(part_of_speech_groups)\n",
    "print(part_of_speech_groups.size())\n",
    "print(part_of_speech_groups.get_group('adverb'))"
   ]
  },
  {
   "cell_type": "markdown",
   "metadata": {},
   "source": []
  },
  {
   "cell_type": "code",
   "execution_count": 27,
   "metadata": {},
   "outputs": [
    {
     "name": "stdout",
     "output_type": "stream",
     "text": [
      "militate (verb)\n",
      "A) To supply food to; to feast.\n",
      "B) To give existence to, to produce (living creatures).\n",
      "C) To give force or effect toward; to influence.\n",
      "D) To defeat the plans or hopes of; to frustrate; disconcert.\n"
     ]
    }
   ],
   "source": [
    "type(part_of_speech_groups.size())\n",
    "import numpy as np\n",
    "group_sizes = part_of_speech_groups.size()\n",
    "parts_of_speech = group_sizes.index\n",
    "parts_of_speech_probabilities = group_sizes / group_sizes.sum()\n",
    "rng = np.random.default_rng()\n",
    "selected_part_of_speech = rng.choice(group_sizes.index, 1, False, parts_of_speech_probabilities)[0]\n",
    "\n",
    "alternative_definitions = part_of_speech_groups.get_group(selected_part_of_speech)\n",
    "num_choices = min(4, alternative_definitions.size)\n",
    "choice_index = rng.choice(alternative_definitions.index, num_choices, False)\n",
    "choice_rows = alternative_definitions.loc[choice_index]\n",
    "promoted_row_index = rng.choice(choice_rows.index, 1, False)\n",
    "promoted_row = choice_rows.loc[promoted_row_index[0]]\n",
    "\n",
    "import string\n",
    "mcq = pd.DataFrame(choice_rows.index, index=list(string.ascii_uppercase[:num_choices]), columns=['choice_index'])\n",
    "print(f'{promoted_row.word} ({promoted_row.partOfSpeech})')\n",
    "for index, choice_row_index in mcq.iterrows():\n",
    "    this_choice = choice_rows.loc[choice_row_index['choice_index']]\n",
    "    print(f'{index}) {this_choice.definition}')\n"
   ]
  },
  {
   "cell_type": "code",
   "execution_count": null,
   "metadata": {},
   "outputs": [],
   "source": []
  }
 ],
 "metadata": {
  "kernelspec": {
   "display_name": "Python 3",
   "language": "python",
   "name": "python3"
  },
  "language_info": {
   "codemirror_mode": {
    "name": "ipython",
    "version": 3
   },
   "file_extension": ".py",
   "mimetype": "text/x-python",
   "name": "python",
   "nbconvert_exporter": "python",
   "pygments_lexer": "ipython3",
   "version": "3.12.9"
  }
 },
 "nbformat": 4,
 "nbformat_minor": 2
}
