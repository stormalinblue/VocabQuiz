{
 "cells": [
  {
   "cell_type": "code",
   "execution_count": 1,
   "metadata": {},
   "outputs": [
    {
     "name": "stdout",
     "output_type": "stream",
     "text": [
      "dovetail missing a definition\n",
      "instransigent missing a definition\n",
      "pr�cis missing a definition\n",
      "repertorial missing a definition\n"
     ]
    },
    {
     "data": {
      "text/html": [
       "<div>\n",
       "<style scoped>\n",
       "    .dataframe tbody tr th:only-of-type {\n",
       "        vertical-align: middle;\n",
       "    }\n",
       "\n",
       "    .dataframe tbody tr th {\n",
       "        vertical-align: top;\n",
       "    }\n",
       "\n",
       "    .dataframe thead th {\n",
       "        text-align: right;\n",
       "    }\n",
       "</style>\n",
       "<table border=\"1\" class=\"dataframe\">\n",
       "  <thead>\n",
       "    <tr style=\"text-align: right;\">\n",
       "      <th></th>\n",
       "      <th>partOfSpeech</th>\n",
       "      <th>word</th>\n",
       "      <th>definition</th>\n",
       "    </tr>\n",
       "  </thead>\n",
       "  <tbody>\n",
       "    <tr>\n",
       "      <th>0</th>\n",
       "      <td>verb</td>\n",
       "      <td>abase</td>\n",
       "      <td>To lower, as in condition in life, office, ran...</td>\n",
       "    </tr>\n",
       "    <tr>\n",
       "      <th>1</th>\n",
       "      <td>verb</td>\n",
       "      <td>abase</td>\n",
       "      <td>To lower physically; to depress; to cast or th...</td>\n",
       "    </tr>\n",
       "    <tr>\n",
       "      <th>2</th>\n",
       "      <td>verb</td>\n",
       "      <td>abase</td>\n",
       "      <td>To lower in value, in particular by altering t...</td>\n",
       "    </tr>\n",
       "    <tr>\n",
       "      <th>3</th>\n",
       "      <td>noun</td>\n",
       "      <td>abeyance</td>\n",
       "      <td>Expectancy; condition of ownership of real pro...</td>\n",
       "    </tr>\n",
       "    <tr>\n",
       "      <th>4</th>\n",
       "      <td>noun</td>\n",
       "      <td>abeyance</td>\n",
       "      <td>Suspension; temporary suppression; dormant con...</td>\n",
       "    </tr>\n",
       "    <tr>\n",
       "      <th>...</th>\n",
       "      <td>...</td>\n",
       "      <td>...</td>\n",
       "      <td>...</td>\n",
       "    </tr>\n",
       "    <tr>\n",
       "      <th>582</th>\n",
       "      <td>adjective</td>\n",
       "      <td>stentorian</td>\n",
       "      <td>(of a voice) Loud, powerful, booming, suitable...</td>\n",
       "    </tr>\n",
       "    <tr>\n",
       "      <th>583</th>\n",
       "      <td>adjective</td>\n",
       "      <td>stentorian</td>\n",
       "      <td>(by extension) Stern, authoritarian; demanding...</td>\n",
       "    </tr>\n",
       "    <tr>\n",
       "      <th>584</th>\n",
       "      <td>verb</td>\n",
       "      <td>stipulate</td>\n",
       "      <td>To require (something) as a condition of a con...</td>\n",
       "    </tr>\n",
       "    <tr>\n",
       "      <th>585</th>\n",
       "      <td>verb</td>\n",
       "      <td>stipulate</td>\n",
       "      <td>To specify, promise or guarantee something in ...</td>\n",
       "    </tr>\n",
       "    <tr>\n",
       "      <th>586</th>\n",
       "      <td>verb</td>\n",
       "      <td>stipulate</td>\n",
       "      <td>To acknowledge the truth of; not to challenge....</td>\n",
       "    </tr>\n",
       "  </tbody>\n",
       "</table>\n",
       "<p>587 rows × 3 columns</p>\n",
       "</div>"
      ],
      "text/plain": [
       "    partOfSpeech        word  \\\n",
       "0           verb       abase   \n",
       "1           verb       abase   \n",
       "2           verb       abase   \n",
       "3           noun    abeyance   \n",
       "4           noun    abeyance   \n",
       "..           ...         ...   \n",
       "582    adjective  stentorian   \n",
       "583    adjective  stentorian   \n",
       "584         verb   stipulate   \n",
       "585         verb   stipulate   \n",
       "586         verb   stipulate   \n",
       "\n",
       "                                            definition  \n",
       "0    To lower, as in condition in life, office, ran...  \n",
       "1    To lower physically; to depress; to cast or th...  \n",
       "2    To lower in value, in particular by altering t...  \n",
       "3    Expectancy; condition of ownership of real pro...  \n",
       "4    Suspension; temporary suppression; dormant con...  \n",
       "..                                                 ...  \n",
       "582  (of a voice) Loud, powerful, booming, suitable...  \n",
       "583  (by extension) Stern, authoritarian; demanding...  \n",
       "584  To require (something) as a condition of a con...  \n",
       "585  To specify, promise or guarantee something in ...  \n",
       "586  To acknowledge the truth of; not to challenge....  \n",
       "\n",
       "[587 rows x 3 columns]"
      ]
     },
     "execution_count": 1,
     "metadata": {},
     "output_type": "execute_result"
    }
   ],
   "source": [
    "import numpy as np\n",
    "import pandas as pd\n",
    "\n",
    "import word_database\n",
    "\n",
    "dictionary = word_database.load_definition_table('words2.yaml')\n",
    "dictionary"
   ]
  },
  {
   "cell_type": "code",
   "execution_count": 9,
   "metadata": {},
   "outputs": [],
   "source": [
    "num_definitions = dictionary.shape[0]\n",
    "\n",
    "matches = np.ones((num_definitions, num_definitions), dtype=np.int64)\n",
    "mismatches = np.copy(matches)\n",
    "\n",
    "def add_match(ans_index, chosen_index, all_indices):\n",
    "    for index in all_indices:\n",
    "        if index == chosen_index:\n",
    "            matches[ans_index, index] += 1\n",
    "        else:\n",
    "            mismatches[ans_index, index] += 1\n",
    "\n",
    "rng = np.random.default_rng()\n",
    "def best_matches(rng, ans_index, n):\n",
    "    betas = rng.beta(matches[ans_index], mismatches[ans_index])\n",
    "    index = np.argpartition(betas, n)[:n]\n",
    "    return index"
   ]
  },
  {
   "cell_type": "code",
   "execution_count": 10,
   "metadata": {},
   "outputs": [],
   "source": [
    "add_match(1, 2, [2, 5, 3])"
   ]
  },
  {
   "cell_type": "code",
   "execution_count": 11,
   "metadata": {},
   "outputs": [
    {
     "data": {
      "text/plain": [
       "array([323,  74,  46,  72])"
      ]
     },
     "execution_count": 11,
     "metadata": {},
     "output_type": "execute_result"
    }
   ],
   "source": [
    "best_matches(rng, 1, 4)"
   ]
  },
  {
   "cell_type": "code",
   "execution_count": null,
   "metadata": {},
   "outputs": [],
   "source": []
  }
 ],
 "metadata": {
  "kernelspec": {
   "display_name": "Python 3",
   "language": "python",
   "name": "python3"
  },
  "language_info": {
   "codemirror_mode": {
    "name": "ipython",
    "version": 3
   },
   "file_extension": ".py",
   "mimetype": "text/x-python",
   "name": "python",
   "nbconvert_exporter": "python",
   "pygments_lexer": "ipython3",
   "version": "3.12.9"
  }
 },
 "nbformat": 4,
 "nbformat_minor": 2
}
